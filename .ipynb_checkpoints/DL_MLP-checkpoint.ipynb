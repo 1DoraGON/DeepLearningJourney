{
 "cells": [
  {
   "cell_type": "code",
   "execution_count": 4,
   "id": "76f548ee",
   "metadata": {},
   "outputs": [],
   "source": [
    "import numpy as np\n",
    "from sklearn.metrics import log_loss\n"
   ]
  },
  {
   "cell_type": "code",
   "execution_count": 5,
   "id": "ef5daeb7",
   "metadata": {},
   "outputs": [],
   "source": [
    "def softmax(x):\n",
    "    return(np.exp(x)/np.exp(x).sum())\n",
    "def softmax_deriv(x):\n",
    "    s = softmax(x)\n",
    "    return s*(1-s)\n",
    "def tanh_deriv(x):\n",
    "    return sum(1-np.tanh(x))"
   ]
  },
  {
   "cell_type": "code",
   "execution_count": 12,
   "id": "81eab51b",
   "metadata": {},
   "outputs": [],
   "source": [
    "def init_params(nx,nh,ny):\n",
    "    input_weights=[np.random.normal(0, 0.3, nx).tolist() for _ in range (nh)]\n",
    "    output_weights=[np.random.normal(0, 0.3, nh).tolist() for _ in range(ny)]   \n",
    "    return input_weights,output_weights\n",
    "def forward(X,input_params,output_weights):\n",
    "    a=np.tanh(np.dot(X,np.transpose(input_params)))  \n",
    "    b=softmax((np.dot(a,np.transpose(output_weights))))\n",
    "    return a,b\n",
    "def loss(y_pred,y_true):\n",
    "    epsilon = 1e-12\n",
    "    y_pred = np.clip(y_pred, epsilon, 1 - epsilon)\n",
    "    prod = y_true * np.log(y_pred)\n",
    "    # Sum over all classes and samples\n",
    "    loss = -np.sum(prod) / np.array(y_true).shape[0]   \n",
    "    return loss"
   ]
  },
  {
   "cell_type": "code",
   "execution_count": 13,
   "id": "fa4dff55",
   "metadata": {
    "scrolled": true
   },
   "outputs": [],
   "source": [
    "def derivate(Y,Yhat,param):\n",
    "    sum=0\n",
    "    for i in range(len(Y)):\n",
    "        sum-=Y[i]/(Yhat[i][0]*np.log(2))*param\n",
    "        sum-=(1-Y[i])/(1-Yhat[i][0]*np.log(2))*(-1*param)\n",
    "    return sum\n",
    "\n",
    "    return w[0][0]\n",
    "def backward(x, y_true, y_pred, hidden_outputs,hidden_weights,output_weights, learning_rate):\n",
    "        hidden_weights=np.array(hidden_weights)\n",
    "        output_weights=np.array(output_weights)\n",
    "        x=np.array(x)     \n",
    "        y_true_reshaped = np.reshape(y_true, y_pred.shape)\n",
    "        # Calculate output error\n",
    "        output_error = y_pred - y_true_reshaped\n",
    "        # Compute gradients for output layer weights and biases\n",
    "        output_error = y_pred - y_true_reshaped\n",
    "        output_weights_gradient = np.dot(hidden_outputs.T, output_error)\n",
    "        output_biases_gradient = np.sum(output_error, axis=0)\n",
    "        # Compute gradients for hidden layer weights and biases\n",
    "        hidden_error = np.dot(output_error, output_weights) * (1 - hidden_outputs**2)\n",
    "        hidden_weights_gradient = np.dot(x.T, hidden_error)\n",
    "        hidden_biases_gradient = np.sum(hidden_error, axis=0)\n",
    "\n",
    "        # Update weights and biases\n",
    "        output_weights -= learning_rate * output_weights_gradient.T\n",
    "        hidden_weights -= learning_rate * hidden_weights_gradient.T\n",
    "        return hidden_weights,output_weights\n",
    "    "
   ]
  },
  {
   "cell_type": "code",
   "execution_count": 26,
   "id": "8dd714d2",
   "metadata": {
    "scrolled": true
   },
   "outputs": [
    {
     "name": "stdout",
     "output_type": "stream",
     "text": [
      "3.418980697293904\n",
      "3.418980697293904\n"
     ]
    }
   ],
   "source": [
    "a,b=init_params(2,4,3)\n",
    "X=[[120,1],[130,1],[158,1],[172,1],[190,1]]\n",
    "Y=[[0,1,0],[0,1,0],[0,0,1],[1,0,0],[1,1,0]]\n",
    "c,Yhat=forward(X,a,b)\n",
    "print(loss(Yhat,Y))\n",
    "backward(X,Y,Yhat,c,a,b,0.01)\n",
    "c,Yhat2=forward(X,a,b)\n",
    "print(loss(Yhat2,Y))\n",
    "\n",
    "\n",
    "\n",
    "\n"
   ]
  },
  {
   "cell_type": "code",
   "execution_count": 502,
   "id": "2670b4dc",
   "metadata": {},
   "outputs": [],
   "source": [
    "\n",
    "    def softmax(self, x):\n",
    "        exp_x = np.exp(x - np.max(x, axis=1, keepdims=True))\n",
    "        return exp_x / np.sum(exp_x, axis=1, keepdims=True)\n",
    "\n",
    "    def forward(self, x):\n",
    "        # Compute hidden layer activations\n",
    "        hidden_activations = np.dot(x, self.hidden_weights) + self.hidden_biases\n",
    "        hidden_outputs = self.tanh(hidden_activations)\n",
    "\n",
    "        # Compute output layer activations\n",
    "        output_activations = np.dot(hidden_outputs, self.output_weights) + self.output_biases\n",
    "        y_pred = self.softmax(output_activations)\n",
    "\n",
    "        return y_pred, hidden_outputs\n",
    "\n",
    "    def backward(self, x, y_true, y_pred, hidden_outputs, learning_rate):\n",
    "        # Compute gradients for output layer weights and biases\n",
    "        output_error = y_pred - y_true\n",
    "        output_weights_gradient = np.dot(hidden_outputs.T, output_error)\n",
    "        output_biases_gradient = np.sum(output_error, axis=0)\n",
    "        # Compute gradients for hidden layer weights and biases\n",
    "        hidden_error = np.dot(output_error, self.output_weights.T) * (1 - hidden_outputs**2)\n",
    "        hidden_weights_gradient = np.dot(x.T, hidden_error)\n",
    "        hidden_biases_gradient = np.sum(hidden_error, axis=0)\n",
    "\n",
    "        # Update weights and biases\n",
    "        self.output_weights -= learning_rate * output_weights_gradient\n",
    "        self.output_biases -= learning_rate * output_biases_gradient\n",
    "        self.hidden_weights -= learning_rate * hidden_weights_gradient\n",
    "        self.hidden_biases -= learning_rate * hidden_biases_gradient\n",
    "\n",
    "    def train(self, x_train, y_train, epochs, learning_rate):\n",
    "        for epoch in range(epochs):\n",
    "            # Forward pass\n",
    "            y_pred, hidden_outputs = self.forward(x_train)\n",
    "\n",
    "            # Backward pass\n",
    "            self.backward(x_train, y_train, y_pred, hidden_outputs, learning_rate)\n",
    "\n",
    "            # Compute loss\n",
    "            loss = self.loss(y_pred, y_train)\n",
    "            print(f\"Epoch {epoch+1}: loss = {loss}\")\n",
    "\n",
    "    def predict(self, x):\n",
    "        y_pred, _ = self.forward(x)\n",
    "        return np.argmax(y_pred, axis=1)\n",
    "\n",
    "    def loss(self, y_pred, y_true):\n",
    "        # Compute cross-entropy loss\n",
    "        loss = -np.sum(y_true * np.log(y_pred)) / y_true.shape[0]\n",
    "        return loss\n"
   ]
  },
  {
   "cell_type": "code",
   "execution_count": null,
   "id": "cf220105",
   "metadata": {},
   "outputs": [],
   "source": [
    "\n"
   ]
  }
 ],
 "metadata": {
  "kernelspec": {
   "display_name": "Python 3 (ipykernel)",
   "language": "python",
   "name": "python3"
  },
  "language_info": {
   "codemirror_mode": {
    "name": "ipython",
    "version": 3
   },
   "file_extension": ".py",
   "mimetype": "text/x-python",
   "name": "python",
   "nbconvert_exporter": "python",
   "pygments_lexer": "ipython3",
   "version": "3.9.0"
  }
 },
 "nbformat": 4,
 "nbformat_minor": 5
}
